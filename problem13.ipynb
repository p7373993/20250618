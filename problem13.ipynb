{
 "cells": [
  {
   "cell_type": "code",
   "execution_count": 1,
   "id": "a06d0fd2",
   "metadata": {},
   "outputs": [],
   "source": [
    "import pandas as pd\n",
    "import numpy as np"
   ]
  },
  {
   "cell_type": "code",
   "execution_count": 2,
   "id": "5076a107",
   "metadata": {},
   "outputs": [],
   "source": [
    "data = pd.read_csv(\"train.csv\")"
   ]
  },
  {
   "cell_type": "code",
   "execution_count": 3,
   "id": "96cb4633",
   "metadata": {},
   "outputs": [
    {
     "data": {
      "text/html": [
       "<div>\n",
       "<style scoped>\n",
       "    .dataframe tbody tr th:only-of-type {\n",
       "        vertical-align: middle;\n",
       "    }\n",
       "\n",
       "    .dataframe tbody tr th {\n",
       "        vertical-align: top;\n",
       "    }\n",
       "\n",
       "    .dataframe thead th {\n",
       "        text-align: right;\n",
       "    }\n",
       "</style>\n",
       "<table border=\"1\" class=\"dataframe\">\n",
       "  <thead>\n",
       "    <tr style=\"text-align: right;\">\n",
       "      <th></th>\n",
       "      <th>age</th>\n",
       "      <th>income</th>\n",
       "      <th>job</th>\n",
       "      <th>target</th>\n",
       "    </tr>\n",
       "  </thead>\n",
       "  <tbody>\n",
       "    <tr>\n",
       "      <th>0</th>\n",
       "      <td>44.967142</td>\n",
       "      <td>70990.331549</td>\n",
       "      <td>engineer</td>\n",
       "      <td>1</td>\n",
       "    </tr>\n",
       "    <tr>\n",
       "      <th>1</th>\n",
       "      <td>38.617357</td>\n",
       "      <td>NaN</td>\n",
       "      <td>doctor</td>\n",
       "      <td>0</td>\n",
       "    </tr>\n",
       "    <tr>\n",
       "      <th>2</th>\n",
       "      <td>46.476885</td>\n",
       "      <td>50894.455549</td>\n",
       "      <td>engineer</td>\n",
       "      <td>0</td>\n",
       "    </tr>\n",
       "    <tr>\n",
       "      <th>3</th>\n",
       "      <td>55.230299</td>\n",
       "      <td>NaN</td>\n",
       "      <td>doctor</td>\n",
       "      <td>0</td>\n",
       "    </tr>\n",
       "    <tr>\n",
       "      <th>4</th>\n",
       "      <td>37.658466</td>\n",
       "      <td>NaN</td>\n",
       "      <td>doctor</td>\n",
       "      <td>1</td>\n",
       "    </tr>\n",
       "    <tr>\n",
       "      <th>...</th>\n",
       "      <td>...</td>\n",
       "      <td>...</td>\n",
       "      <td>...</td>\n",
       "      <td>...</td>\n",
       "    </tr>\n",
       "    <tr>\n",
       "      <th>995</th>\n",
       "      <td>37.188997</td>\n",
       "      <td>66052.253575</td>\n",
       "      <td>artist</td>\n",
       "      <td>1</td>\n",
       "    </tr>\n",
       "    <tr>\n",
       "      <th>996</th>\n",
       "      <td>57.976865</td>\n",
       "      <td>49602.181111</td>\n",
       "      <td>teacher</td>\n",
       "      <td>0</td>\n",
       "    </tr>\n",
       "    <tr>\n",
       "      <th>997</th>\n",
       "      <td>46.408429</td>\n",
       "      <td>NaN</td>\n",
       "      <td>teacher</td>\n",
       "      <td>1</td>\n",
       "    </tr>\n",
       "    <tr>\n",
       "      <th>998</th>\n",
       "      <td>34.288210</td>\n",
       "      <td>47553.995541</td>\n",
       "      <td>doctor</td>\n",
       "      <td>1</td>\n",
       "    </tr>\n",
       "    <tr>\n",
       "      <th>999</th>\n",
       "      <td>45.725828</td>\n",
       "      <td>38826.460328</td>\n",
       "      <td>teacher</td>\n",
       "      <td>0</td>\n",
       "    </tr>\n",
       "  </tbody>\n",
       "</table>\n",
       "<p>1000 rows × 4 columns</p>\n",
       "</div>"
      ],
      "text/plain": [
       "           age        income       job  target\n",
       "0    44.967142  70990.331549  engineer       1\n",
       "1    38.617357           NaN    doctor       0\n",
       "2    46.476885  50894.455549  engineer       0\n",
       "3    55.230299           NaN    doctor       0\n",
       "4    37.658466           NaN    doctor       1\n",
       "..         ...           ...       ...     ...\n",
       "995  37.188997  66052.253575    artist       1\n",
       "996  57.976865  49602.181111   teacher       0\n",
       "997  46.408429           NaN   teacher       1\n",
       "998  34.288210  47553.995541    doctor       1\n",
       "999  45.725828  38826.460328   teacher       0\n",
       "\n",
       "[1000 rows x 4 columns]"
      ]
     },
     "execution_count": 3,
     "metadata": {},
     "output_type": "execute_result"
    }
   ],
   "source": [
    "data"
   ]
  },
  {
   "cell_type": "code",
   "execution_count": 17,
   "id": "4f5c84f2",
   "metadata": {},
   "outputs": [
    {
     "data": {
      "text/plain": [
       "'income'"
      ]
     },
     "execution_count": 17,
     "metadata": {},
     "output_type": "execute_result"
    }
   ],
   "source": [
    "data.isnull().sum().sort_values(ascending=False).index[0]#problem1"
   ]
  },
  {
   "cell_type": "code",
   "execution_count": 59,
   "id": "3be89f01",
   "metadata": {},
   "outputs": [
    {
     "data": {
      "text/plain": [
       "7"
      ]
     },
     "execution_count": 59,
     "metadata": {},
     "output_type": "execute_result"
    }
   ],
   "source": [
    "# 2\n",
    "data_age = data[\"age\"].dropna()\n",
    "data_age = data_age.sort_values().reset_index(drop=True)\n",
    "q1 = data_age.iloc[int(data_age.shape[0]*0.25)-1]\n",
    "q3 = data_age.iloc[int(data_age.shape[0] * 0.75) - 1]\n",
    "iqr = q3 -q1\n",
    "len(data_age[(data_age < (q1 - iqr * 1.5)) | (data_age > (q3 + iqr * 1.5))])"
   ]
  },
  {
   "cell_type": "code",
   "execution_count": null,
   "id": "c5c6c896",
   "metadata": {},
   "outputs": [
    {
     "data": {
      "text/plain": [
       "4"
      ]
     },
     "execution_count": 62,
     "metadata": {},
     "output_type": "execute_result"
    }
   ],
   "source": [
    "#3\n",
    "pd.get_dummies(data[\"job\"]).shape[1]"
   ]
  },
  {
   "cell_type": "code",
   "execution_count": null,
   "id": "8833027d",
   "metadata": {},
   "outputs": [],
   "source": []
  }
 ],
 "metadata": {
  "kernelspec": {
   "display_name": ".venv",
   "language": "python",
   "name": "python3"
  },
  "language_info": {
   "codemirror_mode": {
    "name": "ipython",
    "version": 3
   },
   "file_extension": ".py",
   "mimetype": "text/x-python",
   "name": "python",
   "nbconvert_exporter": "python",
   "pygments_lexer": "ipython3",
   "version": "3.11.11"
  }
 },
 "nbformat": 4,
 "nbformat_minor": 5
}
